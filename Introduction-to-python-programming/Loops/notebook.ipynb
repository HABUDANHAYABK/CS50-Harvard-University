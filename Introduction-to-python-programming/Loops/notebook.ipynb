{
 "cells": [
  {
   "cell_type": "markdown",
   "id": "2702e917",
   "metadata": {},
   "source": [
    "# Loops\n",
    "\n",
    "> In this module we were taught the concept of while and for loops and also the two data structures, list and dictionary.\n",
    "\n",
    "#### While loop\n",
    "A `while loop` is a special case of looping in which an iterable is iterated again and again until a certain condition is no longer True."
   ]
  },
  {
   "cell_type": "code",
   "execution_count": 1,
   "id": "73dde758",
   "metadata": {},
   "outputs": [
    {
     "name": "stdout",
     "output_type": "stream",
     "text": [
      "meow\n",
      "meow\n",
      "meow\n"
     ]
    }
   ],
   "source": [
    "i =3\n",
    "while i > 0:\n",
    "    print(\"meow\")\n",
    "    i = i - 1\n"
   ]
  },
  {
   "cell_type": "markdown",
   "id": "e0326f23",
   "metadata": {},
   "source": [
    "As a programmer is always better to start your counting with 0 up. For this reason i want to modify this code and perform the same task."
   ]
  },
  {
   "cell_type": "code",
   "execution_count": 2,
   "id": "12e59932",
   "metadata": {},
   "outputs": [
    {
     "name": "stdout",
     "output_type": "stream",
     "text": [
      "meow\n",
      "meow\n",
      "meow\n"
     ]
    }
   ],
   "source": [
    "i = 0\n",
    "while i  < 3 and i >= 0:\n",
    "    print(\"meow\")\n",
    "    i +=1"
   ]
  },
  {
   "cell_type": "markdown",
   "id": "8845eef3",
   "metadata": {},
   "source": [
    "#### for loop\n",
    "for is also a special key word reserved in python for looping through a list. "
   ]
  },
  {
   "cell_type": "code",
   "execution_count": 8,
   "id": "c164b7dc",
   "metadata": {},
   "outputs": [
    {
     "name": "stdout",
     "output_type": "stream",
     "text": [
      "meow\n",
      "meow\n",
      "meow\n"
     ]
    }
   ],
   "source": [
    "for i in [0, 1, 2]:\n",
    "    print(\"meow\")"
   ]
  },
  {
   "cell_type": "markdown",
   "id": "86535979",
   "metadata": {},
   "source": [
    "if you look carefully, you will understand that (i) in the code I did'nt use it anywhere again. as a programmer you don't need to write a thing that can't be use anymore. you can replace it with an underscore."
   ]
  },
  {
   "cell_type": "code",
   "execution_count": 9,
   "id": "86e071f1",
   "metadata": {},
   "outputs": [
    {
     "name": "stdout",
     "output_type": "stream",
     "text": [
      "meow\n",
      "meow\n",
      "meow\n"
     ]
    }
   ],
   "source": [
    "for _ in range(3):\n",
    "    print(\"meow\")"
   ]
  },
  {
   "cell_type": "code",
   "execution_count": 12,
   "id": "3e49db85",
   "metadata": {},
   "outputs": [
    {
     "name": "stdout",
     "output_type": "stream",
     "text": [
      "meow\n",
      "meow\n",
      "meow\n"
     ]
    }
   ],
   "source": [
    "print(\"meow\\n\" *3, end=\"\")"
   ]
  },
  {
   "cell_type": "code",
   "execution_count": 14,
   "id": "e9c95931",
   "metadata": {},
   "outputs": [
    {
     "name": "stdout",
     "output_type": "stream",
     "text": [
      "meow\n",
      "meow\n",
      "meow\n",
      "meow\n",
      "meow\n"
     ]
    }
   ],
   "source": [
    "while True:\n",
    "    n = int(input(\"what's n? \"))\n",
    "    if n < 0:\n",
    "        continue\n",
    "    else:\n",
    "        break\n",
    "\n",
    "for _ in range(n):\n",
    "    print(\"meow\")"
   ]
  },
  {
   "cell_type": "markdown",
   "id": "19adce1b",
   "metadata": {},
   "source": [
    "alternatively"
   ]
  },
  {
   "cell_type": "code",
   "execution_count": 16,
   "id": "a46d906e",
   "metadata": {},
   "outputs": [
    {
     "name": "stdout",
     "output_type": "stream",
     "text": [
      "meow\n",
      "meow\n"
     ]
    }
   ],
   "source": [
    "while True:\n",
    "    n = int(input(\"what's n? \"))\n",
    "    if n > 0:\n",
    "        break\n",
    "\n",
    "for _ in range(n):\n",
    "    print(\"meow\")"
   ]
  },
  {
   "cell_type": "code",
   "execution_count": 28,
   "id": "ebb113ba",
   "metadata": {},
   "outputs": [
    {
     "name": "stdout",
     "output_type": "stream",
     "text": [
      "meow\n",
      "meow\n",
      "meow\n",
      "meow\n",
      "meow\n"
     ]
    }
   ],
   "source": [
    "def main():\n",
    "    number = get_number()\n",
    "    meow(number)\n",
    "\n",
    "def get_number():\n",
    "    while True:\n",
    "        n = int(input(\"what's n? \"))\n",
    "        if 0 <= n <= 10:\n",
    "            break\n",
    "        else:\n",
    "            continue \n",
    "    return n\n",
    "\n",
    "def meow(n):\n",
    "    for _ in range(n):\n",
    "        print(\"meow\")\n",
    "\n",
    "main()"
   ]
  },
  {
   "cell_type": "markdown",
   "id": "a8509ae7",
   "metadata": {},
   "source": [
    "### List"
   ]
  },
  {
   "cell_type": "code",
   "execution_count": 29,
   "id": "9badf2cb",
   "metadata": {},
   "outputs": [
    {
     "name": "stdout",
     "output_type": "stream",
     "text": [
      "Hermione\n",
      "Harry\n",
      "Ron\n"
     ]
    }
   ],
   "source": [
    "students = ['Hermione', 'Harry', 'Ron']\n",
    "print(students[0])\n",
    "print(students[1])\n",
    "print(students[2])"
   ]
  },
  {
   "cell_type": "code",
   "execution_count": 30,
   "id": "09f3259a",
   "metadata": {},
   "outputs": [
    {
     "name": "stdout",
     "output_type": "stream",
     "text": [
      "Hermione\n",
      "Harry\n",
      "Ron\n"
     ]
    }
   ],
   "source": [
    "#using for loop\n",
    "for student in students:\n",
    "    print(student)"
   ]
  },
  {
   "cell_type": "code",
   "execution_count": 33,
   "id": "6241ea19",
   "metadata": {},
   "outputs": [
    {
     "name": "stdout",
     "output_type": "stream",
     "text": [
      "1. Hermione\n",
      "2. Harry\n",
      "3. Ron\n"
     ]
    }
   ],
   "source": [
    "for i in range(len(students)):\n",
    "    print(i+1, students[i], sep=\". \")"
   ]
  },
  {
   "cell_type": "markdown",
   "id": "f52122dc",
   "metadata": {},
   "source": [
    "### Dictionaries"
   ]
  },
  {
   "cell_type": "code",
   "execution_count": 34,
   "id": "51f13c2d",
   "metadata": {},
   "outputs": [
    {
     "name": "stdout",
     "output_type": "stream",
     "text": [
      "Hermione\n",
      "Harry\n",
      "Ron\n",
      "Draco\n"
     ]
    }
   ],
   "source": [
    "students = {\n",
    "    \"Hermione\": \"Gryffindor\",\n",
    "    \"Harry\": \"Gryffindor\",\n",
    "    \"Ron\": \"Gryffindor\",\n",
    "    \"Draco\": \"Slytherin\"\n",
    "}\n",
    "\n",
    "for student in students:\n",
    "    print(student)"
   ]
  },
  {
   "cell_type": "code",
   "execution_count": 35,
   "id": "09f51913",
   "metadata": {},
   "outputs": [
    {
     "name": "stdout",
     "output_type": "stream",
     "text": [
      "Hermione, Gryffindor\n",
      "Harry, Gryffindor\n",
      "Ron, Gryffindor\n",
      "Draco, Slytherin\n"
     ]
    }
   ],
   "source": [
    "students = {\n",
    "    \"Hermione\": \"Gryffindor\",\n",
    "    \"Harry\": \"Gryffindor\",\n",
    "    \"Ron\": \"Gryffindor\",\n",
    "    \"Draco\": \"Slytherin\"\n",
    "}\n",
    "\n",
    "for student in students:\n",
    "    print(student, students[student], sep=', ')"
   ]
  },
  {
   "cell_type": "markdown",
   "id": "3fd2bee8",
   "metadata": {},
   "source": [
    "### List of Dictionaries"
   ]
  },
  {
   "cell_type": "code",
   "execution_count": 38,
   "id": "f22b5ff0",
   "metadata": {},
   "outputs": [
    {
     "name": "stdout",
     "output_type": "stream",
     "text": [
      "The student name is Hermione and he's from Gryffindor\n",
      "The student name is Harry and he's from Gryffindor\n",
      "The student name is Ron and he's from Gryffindor\n",
      "The student name is Draco and he's from Slytherin\n"
     ]
    }
   ],
   "source": [
    "students =[\n",
    "    {\"name\": \"Hermione\", \"house\": \"Gryffindor\", \"patronus\": \"otter\"},\n",
    "    {\"name\": \"Harry\", \"house\": \"Gryffindor\", \"patronus\": \"stag\"},\n",
    "    {\"name\": \"Ron\", \"house\": \"Gryffindor\", \"patronus\": \"Jack Ressel terrier\"},\n",
    "    {\"name\": \"Draco\", \"house\": \"Slytherin\", \"patronus\": None}\n",
    "]\n",
    "\n",
    "for student in students:\n",
    "    print(f\"The student name is {student['name']} and he's from {student['house']}\")"
   ]
  },
  {
   "cell_type": "markdown",
   "id": "ac264d08",
   "metadata": {},
   "source": [
    "### Thank you for coming to this far"
   ]
  }
 ],
 "metadata": {
  "kernelspec": {
   "display_name": "base",
   "language": "python",
   "name": "python3"
  },
  "language_info": {
   "codemirror_mode": {
    "name": "ipython",
    "version": 3
   },
   "file_extension": ".py",
   "mimetype": "text/x-python",
   "name": "python",
   "nbconvert_exporter": "python",
   "pygments_lexer": "ipython3",
   "version": "3.12.3"
  }
 },
 "nbformat": 4,
 "nbformat_minor": 5
}
