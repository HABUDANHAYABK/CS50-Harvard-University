{
 "cells": [
  {
   "cell_type": "markdown",
   "id": "acdb3a47",
   "metadata": {},
   "source": [
    "# Introduction to functions in python\n",
    "\n",
    ">In this module i learnt that instead of writing a code again and again, you can function that can be use multiple times.\n",
    "\n",
    "To start writing a function you need to define it by using `def` key word at the begining of the functions.\n",
    "let's dive into writing functions in python."
   ]
  },
  {
   "cell_type": "markdown",
   "id": "6495a885",
   "metadata": {},
   "source": [
    "Let me define a function that can add two numbers"
   ]
  },
  {
   "cell_type": "code",
   "execution_count": 1,
   "id": "d2868c43",
   "metadata": {},
   "outputs": [],
   "source": [
    "def add_two_numbers(num1, num2):\n",
    "    \"\"\"Print the sum of two numbers\"\"\"\n",
    "    value = num1 + num2\n",
    "    print(value)"
   ]
  },
  {
   "cell_type": "markdown",
   "id": "56e200c0",
   "metadata": {},
   "source": [
    "To use this function you need to call it and pass two arguments. num1 and num2"
   ]
  },
  {
   "cell_type": "code",
   "execution_count": 2,
   "id": "c91d196e",
   "metadata": {},
   "outputs": [
    {
     "name": "stdout",
     "output_type": "stream",
     "text": [
      "12\n"
     ]
    }
   ],
   "source": [
    "add_two_numbers(7, 5)"
   ]
  },
  {
   "cell_type": "markdown",
   "id": "967d8460",
   "metadata": {},
   "source": [
    "let me define a functions call average that can return the average of numbers"
   ]
  },
  {
   "cell_type": "code",
   "execution_count": 7,
   "id": "452e35a7",
   "metadata": {},
   "outputs": [],
   "source": [
    "def average_of_two_nums(num1, num2):\n",
    "    return (num1 + num2)/2"
   ]
  },
  {
   "cell_type": "code",
   "execution_count": 8,
   "id": "b2c8ae23",
   "metadata": {},
   "outputs": [
    {
     "data": {
      "text/plain": [
       "1.5"
      ]
     },
     "execution_count": 8,
     "metadata": {},
     "output_type": "execute_result"
    }
   ],
   "source": [
    "average_of_two_nums(1,2)"
   ]
  },
  {
   "cell_type": "code",
   "execution_count": null,
   "id": "571b702c",
   "metadata": {},
   "outputs": [],
   "source": []
  }
 ],
 "metadata": {
  "kernelspec": {
   "display_name": "base",
   "language": "python",
   "name": "python3"
  },
  "language_info": {
   "codemirror_mode": {
    "name": "ipython",
    "version": 3
   },
   "file_extension": ".py",
   "mimetype": "text/x-python",
   "name": "python",
   "nbconvert_exporter": "python",
   "pygments_lexer": "ipython3",
   "version": "3.12.3"
  }
 },
 "nbformat": 4,
 "nbformat_minor": 5
}
