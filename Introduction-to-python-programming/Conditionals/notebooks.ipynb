{
 "cells": [
  {
   "cell_type": "markdown",
   "id": "6cf0a3ea",
   "metadata": {},
   "source": [
    "# CONDITIONALS\n",
    "\n",
    "> In this modules I learnt that it's very possible to write conditional statement in python. To let's the python execute a code when a certain conditions is true."
   ]
  },
  {
   "cell_type": "code",
   "execution_count": 11,
   "id": "0deaba06",
   "metadata": {},
   "outputs": [
    {
     "name": "stdout",
     "output_type": "stream",
     "text": [
      "x is less than y\n"
     ]
    }
   ],
   "source": [
    "x = int(input(\"what's x? \"))\n",
    "y = int(input(\"what's y? \"))\n",
    "\n",
    "if x > y:\n",
    "    print(\"x is greater than y\")\n",
    "elif x < y:\n",
    "    print(\"x is less than y\")\n",
    "else:\n",
    "    print(\"x is equal\")"
   ]
  },
  {
   "cell_type": "markdown",
   "id": "4c750bc9",
   "metadata": {},
   "source": [
    "Let's modify the code by setting two conditions\n",
    "\n",
    "_x is greater than y or x is less than y_ "
   ]
  },
  {
   "cell_type": "code",
   "execution_count": null,
   "id": "9c3db02c",
   "metadata": {},
   "outputs": [
    {
     "name": "stdout",
     "output_type": "stream",
     "text": [
      "x is equal to y\n"
     ]
    }
   ],
   "source": [
    "x = int(input(\"What's x? \"))\n",
    "y = int(input(\"what's y? \"))\n",
    "\n",
    "if x > y or x < y :\n",
    "    print(\"x is not equal to y\")\n",
    "else:\n",
    "    print(\"x is equal to y\")"
   ]
  },
  {
   "cell_type": "markdown",
   "id": "eff2706f",
   "metadata": {},
   "source": [
    "we can shorten this code to look better and more professionals"
   ]
  },
  {
   "cell_type": "code",
   "execution_count": null,
   "id": "a6977624",
   "metadata": {},
   "outputs": [
    {
     "name": "stdout",
     "output_type": "stream",
     "text": [
      "x is not equal to y\n"
     ]
    }
   ],
   "source": [
    "x = int(input(\"what's x? \"))\n",
    "y = int(input(\"what's y? \"))\n",
    "\n",
    "if x!=y:\n",
    "    print(\"x is not equal to y\")\n",
    "else:\n",
    "    print(\"x equal to y\")"
   ]
  },
  {
   "cell_type": "code",
   "execution_count": null,
   "id": "b60ee655",
   "metadata": {},
   "outputs": [
    {
     "name": "stdout",
     "output_type": "stream",
     "text": [
      "Draco is in Slytherin house\n"
     ]
    }
   ],
   "source": [
    "name = input(\"what's your name? \").title()\n",
    "\n",
    "if name == 'Harry' or name =='Hermione' or name == 'Ron':\n",
    "    print(f\"{name.title()} is in Gryffindor house\")\n",
    "elif name =='Draco':\n",
    "    print(\"Draco is in Slytherin house\")\n",
    "\n",
    "else:\n",
    "    print(\"who?\")"
   ]
  },
  {
   "cell_type": "markdown",
   "id": "0f78414b",
   "metadata": {},
   "source": [
    "### `match`\n",
    "match is a special ketword use in python that will enable programmer to ask questions and make decisions.\n"
   ]
  },
  {
   "cell_type": "code",
   "execution_count": null,
   "id": "dbf0ee94",
   "metadata": {},
   "outputs": [
    {
     "name": "stdout",
     "output_type": "stream",
     "text": [
      "Slytherin\n"
     ]
    }
   ],
   "source": [
    "name = input(\"what's name? \").title()\n",
    "match name:\n",
    "    case \"Harry\": \n",
    "        print(\"Gryffindor\")\n",
    "    case \"Hermione\":\n",
    "        print(\"Gryffindor\")\n",
    "    case \"Ron\":\n",
    "        print(\"Gryffindor\")\n",
    "    case \"Draco\":\n",
    "        print(\"Slytherin\")\n",
    "    case _:\n",
    "        print(\"who?\")"
   ]
  },
  {
   "cell_type": "markdown",
   "id": "25f61ce8",
   "metadata": {},
   "source": [
    "we can simplify the code to make it more readable and neat."
   ]
  },
  {
   "cell_type": "code",
   "execution_count": null,
   "id": "aecdc72c",
   "metadata": {},
   "outputs": [
    {
     "name": "stdout",
     "output_type": "stream",
     "text": [
      "Gryffindor\n"
     ]
    }
   ],
   "source": [
    "name = input(\"what's your name? \").title()\n",
    "match name:\n",
    "    case \"Harry\"| \"Hermione\"| \"Ron\":\n",
    "        print(\"Gryffindor\")\n",
    "    case \"Draco\":\n",
    "        print(\"Slytherin\")\n",
    "    case _:\n",
    "        print(\"who?\")"
   ]
  },
  {
   "cell_type": "markdown",
   "id": "91b4f239",
   "metadata": {},
   "source": [
    "### Thank you for coming to this far."
   ]
  }
 ],
 "metadata": {
  "kernelspec": {
   "display_name": "base",
   "language": "python",
   "name": "python3"
  },
  "language_info": {
   "codemirror_mode": {
    "name": "ipython",
    "version": 3
   },
   "file_extension": ".py",
   "mimetype": "text/x-python",
   "name": "python",
   "nbconvert_exporter": "python",
   "pygments_lexer": "ipython3",
   "version": "3.12.3"
  }
 },
 "nbformat": 4,
 "nbformat_minor": 5
}
